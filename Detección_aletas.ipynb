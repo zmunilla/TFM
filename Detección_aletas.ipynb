{
  "nbformat": 4,
  "nbformat_minor": 0,
  "metadata": {
    "colab": {
      "provenance": [],
      "authorship_tag": "ABX9TyPzRrKiK72t75oM8JpGWoUs",
      "include_colab_link": true
    },
    "kernelspec": {
      "name": "python3",
      "display_name": "Python 3"
    },
    "language_info": {
      "name": "python"
    }
  },
  "cells": [
    {
      "cell_type": "markdown",
      "metadata": {
        "id": "view-in-github",
        "colab_type": "text"
      },
      "source": [
        "<a href=\"https://colab.research.google.com/github/zmunilla/TFM/blob/main/Detecci%C3%B3n_aletas.ipynb\" target=\"_parent\"><img src=\"https://colab.research.google.com/assets/colab-badge.svg\" alt=\"Open In Colab\"/></a>"
      ]
    },
    {
      "cell_type": "code",
      "source": [
        "from google.colab import drive\n",
        "drive.mount('/content/drive')"
      ],
      "metadata": {
        "id": "R3x56fOcUZBA"
      },
      "execution_count": null,
      "outputs": []
    },
    {
      "cell_type": "code",
      "source": [
        "pip install ultralytics"
      ],
      "metadata": {
        "id": "jyHloCu_UY4r"
      },
      "execution_count": null,
      "outputs": []
    },
    {
      "cell_type": "code",
      "source": [
        "import os\n",
        "from ultralytics import YOLO\n",
        "import cv2\n",
        "import matplotlib.pyplot as plt\n",
        "\n",
        "# Cargar el modelo entrenado\n",
        "model = YOLO('/content/drive/MyDrive/TFM/best.pt')\n",
        "\n",
        "# Ruta a carpetas de entrada/salida\n",
        "\n",
        "input_folder = '/content/drive/MyDrive/TFM/img_prueba1'\n",
        "output_folder = '/content/drive/MyDrive/TFM/IMG_Salida_YOLO'\n"
      ],
      "metadata": {
        "id": "0LIR-dPRUYsS"
      },
      "execution_count": null,
      "outputs": []
    },
    {
      "cell_type": "code",
      "source": [],
      "metadata": {
        "id": "dedZ_I_CUpOx"
      },
      "execution_count": null,
      "outputs": []
    },
    {
      "cell_type": "code",
      "execution_count": null,
      "metadata": {
        "id": "K7D5_h3cK5Oq"
      },
      "outputs": [],
      "source": [
        "\n",
        "# Procesar todas las imágenes de la carpeta\n",
        "for file_name in os.listdir(input_folder):\n",
        "    if file_name.lower().endswith(('.jpg', '.jpeg', '.png')):\n",
        "        input_path = os.path.join(input_folder, file_name)\n",
        "        output_path = os.path.join(output_folder, file_name)\n",
        "\n",
        "        # Realizar predicción\n",
        "        results = model(input_path)\n",
        "\n",
        "        for result in results:\n",
        "            # Obtener imagen anotada\n",
        "            annotated_frame = result.plot()\n",
        "\n",
        "            # Guardar la imagen con el mismo nombre en la carpeta de salida\n",
        "            cv2.imwrite(output_path, annotated_frame)\n",
        "            print(f\"Guardado: {output_path}\")\n",
        "\n",
        "print(\"✅ Proceso completado.\")"
      ]
    }
  ]
}