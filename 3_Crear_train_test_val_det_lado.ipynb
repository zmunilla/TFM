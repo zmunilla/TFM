{
  "nbformat": 4,
  "nbformat_minor": 0,
  "metadata": {
    "colab": {
      "provenance": []
    },
    "kernelspec": {
      "name": "python3",
      "display_name": "Python 3"
    },
    "language_info": {
      "name": "python"
    }
  },
  "cells": [
    {
      "cell_type": "markdown",
      "source": [
        "CONEXIÓN CON GOOGLE DRIVE"
      ],
      "metadata": {
        "id": "g5NybyQCSidC"
      }
    },
    {
      "cell_type": "code",
      "execution_count": 1,
      "metadata": {
        "colab": {
          "base_uri": "https://localhost:8080/"
        },
        "id": "_OQmUvcP0Hrc",
        "outputId": "21dfcbe7-337d-4912-d70e-9163b94c0166"
      },
      "outputs": [
        {
          "output_type": "stream",
          "name": "stdout",
          "text": [
            "Mounted at /content/drive\n"
          ]
        }
      ],
      "source": [
        "from google.colab import drive\n",
        "drive.mount('/content/drive')"
      ]
    },
    {
      "cell_type": "markdown",
      "source": [
        "IMPORTACIÓN LIBRERÍAS REQUERIDAS"
      ],
      "metadata": {
        "id": "ySXNbx-ISlyo"
      }
    },
    {
      "cell_type": "code",
      "source": [
        "import os\n",
        "import shutil\n",
        "import random"
      ],
      "metadata": {
        "id": "mnFVa1un0RA1"
      },
      "execution_count": 2,
      "outputs": []
    },
    {
      "cell_type": "markdown",
      "source": [
        "SEPARACIÓN RECORTES EN CARPETAS DE TRAIN, VAL Y TEST"
      ],
      "metadata": {
        "id": "oMtPnnimSqsn"
      }
    },
    {
      "cell_type": "markdown",
      "source": [
        "LADO DERECHO"
      ],
      "metadata": {
        "id": "muD7NkJFY8Wq"
      }
    },
    {
      "cell_type": "code",
      "source": [
        "# Ruta a carpeta con recortes de aletas del lado derecho\n",
        "input_folder = '/content/drive/MyDrive/TFM/lado_crop/right'\n",
        "\n",
        "# Carpetas de destino para los conjuntos de imágenes del lado derecho\n",
        "output_base = '/content/drive/MyDrive/TFM/Lado/dataset'\n",
        "train_folder = os.path.join(output_base, 'train/right')\n",
        "val_folder = os.path.join(output_base, 'val/right')\n",
        "test_folder = os.path.join(output_base, 'test/right')\n",
        "\n",
        "# Crear carpetas en el directorio de destino\n",
        "os.makedirs(train_folder, exist_ok=True)\n",
        "os.makedirs(val_folder, exist_ok=True)\n",
        "os.makedirs(test_folder, exist_ok=True)\n"
      ],
      "metadata": {
        "id": "yaq5lnnp0Q3j"
      },
      "execution_count": 3,
      "outputs": []
    },
    {
      "cell_type": "code",
      "source": [
        "# Obtener todas las imágenes\n",
        "all_images = [f for f in os.listdir(input_folder) if f.lower().endswith(('.png', '.jpg', '.jpeg'))]\n",
        "\n",
        "#ya que la lista de las imágenes están descargadas por avistamientos y para mezclar\n",
        "#todas las fotos antes de hacer la división de datasets usamos el comando\n",
        "\n",
        "random.shuffle(all_images)\n",
        "\n",
        "# Cálculo del número de imágenes para cada conjunto\n",
        "total_img = len(all_images)\n",
        "train_size = int(total_img * 0.70)\n",
        "val_size = int(total_img * 0.15)\n",
        "test_size = total_img - train_size - val_size\n",
        "\n",
        "# Separar las imágenes mediante los índices de la lista y delimitados por\n",
        "#los valores obtenidos en el paso anterior.\n",
        "\n",
        "train_images = all_images[:train_size]\n",
        "val_images = all_images[train_size:train_size + val_size]\n",
        "test_images = all_images[train_size + val_size:]\n",
        "\n",
        "# Creamos una función para copiar imágenes a las carpetas de destino\n",
        "def copy_files(file_list, origin_folder, dest_folder):\n",
        "    for file in file_list:\n",
        "        shutil.copy(os.path.join(origin_folder, file), os.path.join(dest_folder, file))\n",
        "\n",
        "# Copiar archivos a las carpetas correspondientes\n",
        "copy_files(train_images, input_folder, train_folder)\n",
        "copy_files(val_images, input_folder, val_folder)\n",
        "copy_files(test_images, input_folder, test_folder)\n",
        "\n",
        "print(f\"PARA EL LADO DERECHO\")\n",
        "print(f\"Total imágenes: {total_img}\")\n",
        "print(f\"Train: {len(train_images)}\")\n",
        "print(f\"Val: {len(val_images)}\")\n",
        "print(f\"Test: {len(test_images)}\")\n"
      ],
      "metadata": {
        "id": "fc8SaX9e0Qs2"
      },
      "execution_count": null,
      "outputs": []
    },
    {
      "cell_type": "markdown",
      "source": [
        "LADO IZQUIERDO"
      ],
      "metadata": {
        "id": "88g_ZX28ZQnp"
      }
    },
    {
      "cell_type": "code",
      "source": [
        "# Ruta a carpeta con recortes de aletas del lado izquierdo\n",
        "input_folder = '/content/drive/MyDrive/TFM/lado_crop/left'\n",
        "\n",
        "# Carpetas de destino para los conjuntos de imágenes del lado izquierdo\n",
        "output_base = '/content/drive/MyDrive/TFM/Lado/dataset'\n",
        "train_folder = os.path.join(output_base, 'train/left')\n",
        "val_folder = os.path.join(output_base, 'val/left')\n",
        "test_folder = os.path.join(output_base, 'test/left')\n",
        "\n",
        "# Crear carpetas en el directorio de destino\n",
        "os.makedirs(train_folder, exist_ok=True)\n",
        "os.makedirs(val_folder, exist_ok=True)\n",
        "os.makedirs(test_folder, exist_ok=True)"
      ],
      "metadata": {
        "id": "PLVqrPZJZSWa"
      },
      "execution_count": 8,
      "outputs": []
    },
    {
      "cell_type": "code",
      "source": [
        "# Obtener todas las imágenes\n",
        "all_images = [f for f in os.listdir(input_folder) if f.lower().endswith(('.png', '.jpg', '.jpeg'))]\n",
        "\n",
        "random.shuffle(all_images)\n",
        "\n",
        "# Cálculo del número de imágenes para cada conjunto\n",
        "\n",
        "total_img = len(all_images)\n",
        "train_size = int(total_img * 0.70)\n",
        "val_size = int(total_img * 0.15)\n",
        "test_size = total_img - train_size - val_size\n",
        "\n",
        "# Separación de imágenes\n",
        "\n",
        "train_images = all_images[:train_size]\n",
        "val_images = all_images[train_size:train_size + val_size]\n",
        "test_images = all_images[train_size + val_size:]\n",
        "\n",
        "# Copiar archivos a las carpetas correspondientes con la función ya creada\n",
        "copy_files(train_images, input_folder, train_folder)\n",
        "copy_files(val_images, input_folder, val_folder)\n",
        "copy_files(test_images, input_folder, test_folder)\n",
        "\n",
        "print(f\"PARA EL LADO IZQUIERDO\")\n",
        "print(f\"Total imágenes: {total_img}\")\n",
        "print(f\"Train: {len(train_images)}\")\n",
        "print(f\"Val: {len(val_images)}\")\n",
        "print(f\"Test: {len(test_images)}\")\n"
      ],
      "metadata": {
        "id": "VKD8BAd_ZSoR"
      },
      "execution_count": null,
      "outputs": []
    },
    {
      "cell_type": "markdown",
      "source": [
        "El dataset creado tiene la siguiente estructura:"
      ],
      "metadata": {
        "id": "ySQ8Y0g8Zonq"
      }
    },
    {
      "cell_type": "code",
      "source": [
        "'''\n",
        "dataset/\n",
        "    train/\n",
        "        left/\n",
        "        right/\n",
        "    val/\n",
        "        left/\n",
        "        right/\n",
        "    test/\n",
        "        left/\n",
        "        right/\n",
        "'''"
      ],
      "metadata": {
        "id": "v9BJ4OAEZ5Mt"
      },
      "execution_count": null,
      "outputs": []
    }
  ]
}