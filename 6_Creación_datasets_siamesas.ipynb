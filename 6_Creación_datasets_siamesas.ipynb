{
  "nbformat": 4,
  "nbformat_minor": 0,
  "metadata": {
    "colab": {
      "provenance": [],
      "gpuType": "T4",
      "include_colab_link": true
    },
    "kernelspec": {
      "name": "python3",
      "display_name": "Python 3"
    },
    "language_info": {
      "name": "python"
    },
    "accelerator": "GPU"
  },
  "cells": [
    {
      "cell_type": "markdown",
      "metadata": {
        "id": "view-in-github",
        "colab_type": "text"
      },
      "source": [
        "<a href=\"https://colab.research.google.com/github/zmunilla/TFM/blob/main/6_Creaci%C3%B3n_datasets_siamesas.ipynb\" target=\"_parent\"><img src=\"https://colab.research.google.com/assets/colab-badge.svg\" alt=\"Open In Colab\"/></a>"
      ]
    },
    {
      "cell_type": "markdown",
      "source": [
        "1-CONECTAMOS AL DRIVE"
      ],
      "metadata": {
        "id": "1PTVuWlwen-O"
      }
    },
    {
      "cell_type": "code",
      "execution_count": null,
      "metadata": {
        "colab": {
          "base_uri": "https://localhost:8080/"
        },
        "id": "54ldi4Mceev5",
        "outputId": "df8ea509-21d4-4c93-ce8b-ec7c6b9d0061"
      },
      "outputs": [
        {
          "output_type": "stream",
          "name": "stdout",
          "text": [
            "Mounted at /content/drive\n"
          ]
        }
      ],
      "source": [
        "from google.colab import drive\n",
        "drive.mount('/content/drive')"
      ]
    },
    {
      "cell_type": "markdown",
      "source": [
        "2-CARGAMOS LIBRERÍAS"
      ],
      "metadata": {
        "id": "XfBjcraAgspw"
      }
    },
    {
      "cell_type": "code",
      "source": [
        "import shutil\n",
        "import random\n",
        "from math import floor\n",
        "from pathlib import Path"
      ],
      "metadata": {
        "id": "1L8t6vyDxTD2"
      },
      "execution_count": null,
      "outputs": []
    },
    {
      "cell_type": "markdown",
      "source": [
        "3-CREAMOS FUNCION PARA DIVIDIR DATASET"
      ],
      "metadata": {
        "id": "4JSeoLf8esa-"
      }
    },
    {
      "cell_type": "code",
      "source": [
        "#Vamos a separar el dataset que ya está distribuído en carpetas por cada individuo\n",
        "#y lado. Usamos el ratio 80% train y 20% test con la condición de dejar mínimo\n",
        "#2 imágenes para el train.\n",
        "\n",
        "def split_dataset(source_dir, train_dir, test_dir, train_ratio=0.8, min_images_train=2):\n",
        "    source_dir = Path(source_dir)\n",
        "    train_dir = Path(train_dir)\n",
        "    test_dir = Path(test_dir)\n",
        "\n",
        "    train_dir.mkdir(parents=True, exist_ok=True)\n",
        "    test_dir.mkdir(parents=True, exist_ok=True)\n",
        "\n",
        "    for indiv_folder in source_dir.iterdir():\n",
        "        if not indiv_folder.is_dir():\n",
        "            continue\n",
        "\n",
        "        images = list(indiv_folder.glob(\"*.*\"))\n",
        "        if len(images) < min_images_train:\n",
        "            print(f\"Se omite individuo {indiv_folder.name}: imágenes insuficientes.\")\n",
        "            continue\n",
        "\n",
        "        random.shuffle(images)\n",
        "        n_train = max(min_images_train, floor(len(images) * train_ratio))\n",
        "        n_test = len(images) - n_train\n",
        "\n",
        "        train_images = images[:n_train]\n",
        "        test_images = images[n_train:] if n_test > 0 else [] #si solo había 2\n",
        "        #imágenes en ese individuo, el dataset test de ese individuo queda vacío\n",
        "\n",
        "        # Crear carpetas destino\n",
        "        train_indiv_dir = train_dir / indiv_folder.name\n",
        "        train_indiv_dir.mkdir(parents=True, exist_ok=True)\n",
        "        for img in train_images:\n",
        "            shutil.copy(img, train_indiv_dir / img.name)\n",
        "\n",
        "        if test_images:\n",
        "            test_indiv_dir = test_dir / indiv_folder.name\n",
        "            test_indiv_dir.mkdir(parents=True, exist_ok=True)\n",
        "            for img in test_images:\n",
        "                shutil.copy(img, test_indiv_dir / img.name)\n",
        "\n",
        "        print(f\"{indiv_folder.name}: {len(train_images)} train, {len(test_images)} test\")\n"
      ],
      "metadata": {
        "id": "WGFV8IABekNR"
      },
      "execution_count": null,
      "outputs": []
    },
    {
      "cell_type": "markdown",
      "source": [
        "4-APLICAMOS FUNCIÓN PARA CREAR EL DATASET DERECHO"
      ],
      "metadata": {
        "id": "4BeIan3MBf5y"
      }
    },
    {
      "cell_type": "code",
      "source": [
        "split_dataset(\n",
        "    source_dir=\"/content/drive/MyDrive/TFM/Cat_dataset/right\", # carpeta del dataset completo\n",
        "    train_dir=\"/content/drive/MyDrive/TFM/Cat_dataset/right/train\",  # carpeta para train\n",
        "    test_dir=\"/content/drive/MyDrive/TFM/Cat_dataset/right/test\",    # carpeta para test\n",
        "    train_ratio=0.8,\n",
        "    min_images_train=2\n",
        ")"
      ],
      "metadata": {
        "id": "0gBY29XJBfW_"
      },
      "execution_count": null,
      "outputs": []
    }
  ]
}