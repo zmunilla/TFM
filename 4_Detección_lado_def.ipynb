{
  "nbformat": 4,
  "nbformat_minor": 0,
  "metadata": {
    "colab": {
      "provenance": [],
      "gpuType": "T4"
    },
    "kernelspec": {
      "name": "python3",
      "display_name": "Python 3"
    },
    "language_info": {
      "name": "python"
    },
    "accelerator": "GPU"
  },
  "cells": [
    {
      "cell_type": "markdown",
      "source": [
        "CONEXIÓN CON GOOGLE DRIVE"
      ],
      "metadata": {
        "id": "CNW3OLEze0rN"
      }
    },
    {
      "cell_type": "code",
      "execution_count": 1,
      "metadata": {
        "colab": {
          "base_uri": "https://localhost:8080/"
        },
        "id": "wnZsaWY-inYF",
        "outputId": "e53c1b33-2d6f-4fe4-aa99-455ac3c7a7cf"
      },
      "outputs": [
        {
          "output_type": "stream",
          "name": "stdout",
          "text": [
            "Mounted at /content/drive\n"
          ]
        }
      ],
      "source": [
        "from google.colab import drive\n",
        "drive.mount('/content/drive')"
      ]
    },
    {
      "cell_type": "markdown",
      "source": [
        "INSTALAMOS LOS PAQUETES NECESARIOS"
      ],
      "metadata": {
        "id": "qwFNNsUNI78X"
      }
    },
    {
      "cell_type": "code",
      "source": [
        "pip install torch torchvision matplotlib"
      ],
      "metadata": {
        "colab": {
          "base_uri": "https://localhost:8080/"
        },
        "id": "iLGupx83izN7",
        "outputId": "3ec4d8e1-ed07-4f14-dbb5-08e48990db95",
        "collapsed": true
      },
      "execution_count": 2,
      "outputs": [
        {
          "output_type": "stream",
          "name": "stdout",
          "text": [
            "Requirement already satisfied: torch in /usr/local/lib/python3.11/dist-packages (2.6.0+cu124)\n",
            "Requirement already satisfied: torchvision in /usr/local/lib/python3.11/dist-packages (0.21.0+cu124)\n",
            "Requirement already satisfied: matplotlib in /usr/local/lib/python3.11/dist-packages (3.10.0)\n",
            "Requirement already satisfied: filelock in /usr/local/lib/python3.11/dist-packages (from torch) (3.18.0)\n",
            "Requirement already satisfied: typing-extensions>=4.10.0 in /usr/local/lib/python3.11/dist-packages (from torch) (4.13.0)\n",
            "Requirement already satisfied: networkx in /usr/local/lib/python3.11/dist-packages (from torch) (3.4.2)\n",
            "Requirement already satisfied: jinja2 in /usr/local/lib/python3.11/dist-packages (from torch) (3.1.6)\n",
            "Requirement already satisfied: fsspec in /usr/local/lib/python3.11/dist-packages (from torch) (2025.3.0)\n",
            "Collecting nvidia-cuda-nvrtc-cu12==12.4.127 (from torch)\n",
            "  Downloading nvidia_cuda_nvrtc_cu12-12.4.127-py3-none-manylinux2014_x86_64.whl.metadata (1.5 kB)\n",
            "Collecting nvidia-cuda-runtime-cu12==12.4.127 (from torch)\n",
            "  Downloading nvidia_cuda_runtime_cu12-12.4.127-py3-none-manylinux2014_x86_64.whl.metadata (1.5 kB)\n",
            "Collecting nvidia-cuda-cupti-cu12==12.4.127 (from torch)\n",
            "  Downloading nvidia_cuda_cupti_cu12-12.4.127-py3-none-manylinux2014_x86_64.whl.metadata (1.6 kB)\n",
            "Collecting nvidia-cudnn-cu12==9.1.0.70 (from torch)\n",
            "  Downloading nvidia_cudnn_cu12-9.1.0.70-py3-none-manylinux2014_x86_64.whl.metadata (1.6 kB)\n",
            "Collecting nvidia-cublas-cu12==12.4.5.8 (from torch)\n",
            "  Downloading nvidia_cublas_cu12-12.4.5.8-py3-none-manylinux2014_x86_64.whl.metadata (1.5 kB)\n",
            "Collecting nvidia-cufft-cu12==11.2.1.3 (from torch)\n",
            "  Downloading nvidia_cufft_cu12-11.2.1.3-py3-none-manylinux2014_x86_64.whl.metadata (1.5 kB)\n",
            "Collecting nvidia-curand-cu12==10.3.5.147 (from torch)\n",
            "  Downloading nvidia_curand_cu12-10.3.5.147-py3-none-manylinux2014_x86_64.whl.metadata (1.5 kB)\n",
            "Collecting nvidia-cusolver-cu12==11.6.1.9 (from torch)\n",
            "  Downloading nvidia_cusolver_cu12-11.6.1.9-py3-none-manylinux2014_x86_64.whl.metadata (1.6 kB)\n",
            "Collecting nvidia-cusparse-cu12==12.3.1.170 (from torch)\n",
            "  Downloading nvidia_cusparse_cu12-12.3.1.170-py3-none-manylinux2014_x86_64.whl.metadata (1.6 kB)\n",
            "Requirement already satisfied: nvidia-cusparselt-cu12==0.6.2 in /usr/local/lib/python3.11/dist-packages (from torch) (0.6.2)\n",
            "Requirement already satisfied: nvidia-nccl-cu12==2.21.5 in /usr/local/lib/python3.11/dist-packages (from torch) (2.21.5)\n",
            "Requirement already satisfied: nvidia-nvtx-cu12==12.4.127 in /usr/local/lib/python3.11/dist-packages (from torch) (12.4.127)\n",
            "Collecting nvidia-nvjitlink-cu12==12.4.127 (from torch)\n",
            "  Downloading nvidia_nvjitlink_cu12-12.4.127-py3-none-manylinux2014_x86_64.whl.metadata (1.5 kB)\n",
            "Requirement already satisfied: triton==3.2.0 in /usr/local/lib/python3.11/dist-packages (from torch) (3.2.0)\n",
            "Requirement already satisfied: sympy==1.13.1 in /usr/local/lib/python3.11/dist-packages (from torch) (1.13.1)\n",
            "Requirement already satisfied: mpmath<1.4,>=1.1.0 in /usr/local/lib/python3.11/dist-packages (from sympy==1.13.1->torch) (1.3.0)\n",
            "Requirement already satisfied: numpy in /usr/local/lib/python3.11/dist-packages (from torchvision) (2.0.2)\n",
            "Requirement already satisfied: pillow!=8.3.*,>=5.3.0 in /usr/local/lib/python3.11/dist-packages (from torchvision) (11.1.0)\n",
            "Requirement already satisfied: contourpy>=1.0.1 in /usr/local/lib/python3.11/dist-packages (from matplotlib) (1.3.1)\n",
            "Requirement already satisfied: cycler>=0.10 in /usr/local/lib/python3.11/dist-packages (from matplotlib) (0.12.1)\n",
            "Requirement already satisfied: fonttools>=4.22.0 in /usr/local/lib/python3.11/dist-packages (from matplotlib) (4.56.0)\n",
            "Requirement already satisfied: kiwisolver>=1.3.1 in /usr/local/lib/python3.11/dist-packages (from matplotlib) (1.4.8)\n",
            "Requirement already satisfied: packaging>=20.0 in /usr/local/lib/python3.11/dist-packages (from matplotlib) (24.2)\n",
            "Requirement already satisfied: pyparsing>=2.3.1 in /usr/local/lib/python3.11/dist-packages (from matplotlib) (3.2.3)\n",
            "Requirement already satisfied: python-dateutil>=2.7 in /usr/local/lib/python3.11/dist-packages (from matplotlib) (2.8.2)\n",
            "Requirement already satisfied: six>=1.5 in /usr/local/lib/python3.11/dist-packages (from python-dateutil>=2.7->matplotlib) (1.17.0)\n",
            "Requirement already satisfied: MarkupSafe>=2.0 in /usr/local/lib/python3.11/dist-packages (from jinja2->torch) (3.0.2)\n",
            "Downloading nvidia_cublas_cu12-12.4.5.8-py3-none-manylinux2014_x86_64.whl (363.4 MB)\n",
            "\u001b[2K   \u001b[90m━━━━━━━━━━━━━━━━━━━━━━━━━━━━━━━━━━━━━━━━\u001b[0m \u001b[32m363.4/363.4 MB\u001b[0m \u001b[31m1.4 MB/s\u001b[0m eta \u001b[36m0:00:00\u001b[0m\n",
            "\u001b[?25hDownloading nvidia_cuda_cupti_cu12-12.4.127-py3-none-manylinux2014_x86_64.whl (13.8 MB)\n",
            "\u001b[2K   \u001b[90m━━━━━━━━━━━━━━━━━━━━━━━━━━━━━━━━━━━━━━━━\u001b[0m \u001b[32m13.8/13.8 MB\u001b[0m \u001b[31m111.3 MB/s\u001b[0m eta \u001b[36m0:00:00\u001b[0m\n",
            "\u001b[?25hDownloading nvidia_cuda_nvrtc_cu12-12.4.127-py3-none-manylinux2014_x86_64.whl (24.6 MB)\n",
            "\u001b[2K   \u001b[90m━━━━━━━━━━━━━━━━━━━━━━━━━━━━━━━━━━━━━━━━\u001b[0m \u001b[32m24.6/24.6 MB\u001b[0m \u001b[31m85.2 MB/s\u001b[0m eta \u001b[36m0:00:00\u001b[0m\n",
            "\u001b[?25hDownloading nvidia_cuda_runtime_cu12-12.4.127-py3-none-manylinux2014_x86_64.whl (883 kB)\n",
            "\u001b[2K   \u001b[90m━━━━━━━━━━━━━━━━━━━━━━━━━━━━━━━━━━━━━━━━\u001b[0m \u001b[32m883.7/883.7 kB\u001b[0m \u001b[31m56.3 MB/s\u001b[0m eta \u001b[36m0:00:00\u001b[0m\n",
            "\u001b[?25hDownloading nvidia_cudnn_cu12-9.1.0.70-py3-none-manylinux2014_x86_64.whl (664.8 MB)\n",
            "\u001b[2K   \u001b[90m━━━━━━━━━━━━━━━━━━━━━━━━━━━━━━━━━━━━━━━━\u001b[0m \u001b[32m664.8/664.8 MB\u001b[0m \u001b[31m1.4 MB/s\u001b[0m eta \u001b[36m0:00:00\u001b[0m\n",
            "\u001b[?25hDownloading nvidia_cufft_cu12-11.2.1.3-py3-none-manylinux2014_x86_64.whl (211.5 MB)\n",
            "\u001b[2K   \u001b[90m━━━━━━━━━━━━━━━━━━━━━━━━━━━━━━━━━━━━━━━━\u001b[0m \u001b[32m211.5/211.5 MB\u001b[0m \u001b[31m5.7 MB/s\u001b[0m eta \u001b[36m0:00:00\u001b[0m\n",
            "\u001b[?25hDownloading nvidia_curand_cu12-10.3.5.147-py3-none-manylinux2014_x86_64.whl (56.3 MB)\n",
            "\u001b[2K   \u001b[90m━━━━━━━━━━━━━━━━━━━━━━━━━━━━━━━━━━━━━━━━\u001b[0m \u001b[32m56.3/56.3 MB\u001b[0m \u001b[31m11.9 MB/s\u001b[0m eta \u001b[36m0:00:00\u001b[0m\n",
            "\u001b[?25hDownloading nvidia_cusolver_cu12-11.6.1.9-py3-none-manylinux2014_x86_64.whl (127.9 MB)\n",
            "\u001b[2K   \u001b[90m━━━━━━━━━━━━━━━━━━━━━━━━━━━━━━━━━━━━━━━━\u001b[0m \u001b[32m127.9/127.9 MB\u001b[0m \u001b[31m7.5 MB/s\u001b[0m eta \u001b[36m0:00:00\u001b[0m\n",
            "\u001b[?25hDownloading nvidia_cusparse_cu12-12.3.1.170-py3-none-manylinux2014_x86_64.whl (207.5 MB)\n",
            "\u001b[2K   \u001b[90m━━━━━━━━━━━━━━━━━━━━━━━━━━━━━━━━━━━━━━━━\u001b[0m \u001b[32m207.5/207.5 MB\u001b[0m \u001b[31m7.4 MB/s\u001b[0m eta \u001b[36m0:00:00\u001b[0m\n",
            "\u001b[?25hDownloading nvidia_nvjitlink_cu12-12.4.127-py3-none-manylinux2014_x86_64.whl (21.1 MB)\n",
            "\u001b[2K   \u001b[90m━━━━━━━━━━━━━━━━━━━━━━━━━━━━━━━━━━━━━━━━\u001b[0m \u001b[32m21.1/21.1 MB\u001b[0m \u001b[31m88.0 MB/s\u001b[0m eta \u001b[36m0:00:00\u001b[0m\n",
            "\u001b[?25hInstalling collected packages: nvidia-nvjitlink-cu12, nvidia-curand-cu12, nvidia-cufft-cu12, nvidia-cuda-runtime-cu12, nvidia-cuda-nvrtc-cu12, nvidia-cuda-cupti-cu12, nvidia-cublas-cu12, nvidia-cusparse-cu12, nvidia-cudnn-cu12, nvidia-cusolver-cu12\n",
            "  Attempting uninstall: nvidia-nvjitlink-cu12\n",
            "    Found existing installation: nvidia-nvjitlink-cu12 12.5.82\n",
            "    Uninstalling nvidia-nvjitlink-cu12-12.5.82:\n",
            "      Successfully uninstalled nvidia-nvjitlink-cu12-12.5.82\n",
            "  Attempting uninstall: nvidia-curand-cu12\n",
            "    Found existing installation: nvidia-curand-cu12 10.3.6.82\n",
            "    Uninstalling nvidia-curand-cu12-10.3.6.82:\n",
            "      Successfully uninstalled nvidia-curand-cu12-10.3.6.82\n",
            "  Attempting uninstall: nvidia-cufft-cu12\n",
            "    Found existing installation: nvidia-cufft-cu12 11.2.3.61\n",
            "    Uninstalling nvidia-cufft-cu12-11.2.3.61:\n",
            "      Successfully uninstalled nvidia-cufft-cu12-11.2.3.61\n",
            "  Attempting uninstall: nvidia-cuda-runtime-cu12\n",
            "    Found existing installation: nvidia-cuda-runtime-cu12 12.5.82\n",
            "    Uninstalling nvidia-cuda-runtime-cu12-12.5.82:\n",
            "      Successfully uninstalled nvidia-cuda-runtime-cu12-12.5.82\n",
            "  Attempting uninstall: nvidia-cuda-nvrtc-cu12\n",
            "    Found existing installation: nvidia-cuda-nvrtc-cu12 12.5.82\n",
            "    Uninstalling nvidia-cuda-nvrtc-cu12-12.5.82:\n",
            "      Successfully uninstalled nvidia-cuda-nvrtc-cu12-12.5.82\n",
            "  Attempting uninstall: nvidia-cuda-cupti-cu12\n",
            "    Found existing installation: nvidia-cuda-cupti-cu12 12.5.82\n",
            "    Uninstalling nvidia-cuda-cupti-cu12-12.5.82:\n",
            "      Successfully uninstalled nvidia-cuda-cupti-cu12-12.5.82\n",
            "  Attempting uninstall: nvidia-cublas-cu12\n",
            "    Found existing installation: nvidia-cublas-cu12 12.5.3.2\n",
            "    Uninstalling nvidia-cublas-cu12-12.5.3.2:\n",
            "      Successfully uninstalled nvidia-cublas-cu12-12.5.3.2\n",
            "  Attempting uninstall: nvidia-cusparse-cu12\n",
            "    Found existing installation: nvidia-cusparse-cu12 12.5.1.3\n",
            "    Uninstalling nvidia-cusparse-cu12-12.5.1.3:\n",
            "      Successfully uninstalled nvidia-cusparse-cu12-12.5.1.3\n",
            "  Attempting uninstall: nvidia-cudnn-cu12\n",
            "    Found existing installation: nvidia-cudnn-cu12 9.3.0.75\n",
            "    Uninstalling nvidia-cudnn-cu12-9.3.0.75:\n",
            "      Successfully uninstalled nvidia-cudnn-cu12-9.3.0.75\n",
            "  Attempting uninstall: nvidia-cusolver-cu12\n",
            "    Found existing installation: nvidia-cusolver-cu12 11.6.3.83\n",
            "    Uninstalling nvidia-cusolver-cu12-11.6.3.83:\n",
            "      Successfully uninstalled nvidia-cusolver-cu12-11.6.3.83\n",
            "Successfully installed nvidia-cublas-cu12-12.4.5.8 nvidia-cuda-cupti-cu12-12.4.127 nvidia-cuda-nvrtc-cu12-12.4.127 nvidia-cuda-runtime-cu12-12.4.127 nvidia-cudnn-cu12-9.1.0.70 nvidia-cufft-cu12-11.2.1.3 nvidia-curand-cu12-10.3.5.147 nvidia-cusolver-cu12-11.6.1.9 nvidia-cusparse-cu12-12.3.1.170 nvidia-nvjitlink-cu12-12.4.127\n"
          ]
        }
      ]
    },
    {
      "cell_type": "markdown",
      "source": [
        "CARGAMOS LAS LIBRERÍAS NECESARIAS"
      ],
      "metadata": {
        "id": "e1H0rnrTJHs7"
      }
    },
    {
      "cell_type": "code",
      "source": [
        "import os\n",
        "import torch\n",
        "import torch.nn as nn\n",
        "import torch.optim as optim\n",
        "from torchvision import datasets, models, transforms\n",
        "from torch.utils.data import DataLoader\n",
        "import numpy as np\n",
        "from sklearn.metrics import accuracy_score, recall_score, average_precision_score\n"
      ],
      "metadata": {
        "id": "fBKEaeJRiy_Z"
      },
      "execution_count": 3,
      "outputs": []
    },
    {
      "cell_type": "markdown",
      "source": [
        "FUNCION DE TRANSFORMACIÓN DE IMÁGENES Y CREACIÓN DATASETS Y DATALOADERS"
      ],
      "metadata": {
        "id": "qRyV9LYY-hTo"
      }
    },
    {
      "cell_type": "code",
      "source": [
        "# Transformación para las imágenes\n",
        "transforma = transforms.Compose([\n",
        "    transforms.Resize((224, 224)),\n",
        "    transforms.ToTensor(), #pasa la imagen a tensor para que pueda ser procesada\n",
        "    transforms.Normalize(mean=[0.485, 0.456, 0.406],\n",
        "                         std=[0.229, 0.224, 0.225]) #normalizamos las imágenes\n",
        "])\n",
        "\n",
        "# Creamos los datasets\n",
        "data_dir = '/content/drive/MyDrive/TFM/Lado/dataset' #ruta al dataset\n",
        "train_data = datasets.ImageFolder(os.path.join(data_dir, 'train'), transform=transforma)\n",
        "val_data = datasets.ImageFolder(os.path.join(data_dir, 'val'), transform=transforma)\n",
        "test_data = datasets.ImageFolder(os.path.join(data_dir, 'test'), transform=transforma)\n",
        "\n",
        "# Creamos los dataloaders\n",
        "train_loader = DataLoader(train_data, batch_size=32, shuffle=True)\n",
        "val_loader = DataLoader(val_data, batch_size=32, shuffle=False)\n",
        "test_loader = DataLoader(test_data, batch_size=32, shuffle=False)"
      ],
      "metadata": {
        "id": "9MJzy3H_-blP"
      },
      "execution_count": 4,
      "outputs": []
    },
    {
      "cell_type": "markdown",
      "source": [
        "ENTRENAMIENTO DEL MODELO BASADO EN RESNET50"
      ],
      "metadata": {
        "id": "eh8uqLUZjLFr"
      }
    },
    {
      "cell_type": "code",
      "source": [
        "#Creamos la variable devide para forzar el uso de gpu en caso de que esté disponible\n",
        "#ya que de otro modo el entrenamiento llevará mucho tiempo\n",
        "device = torch.device(\"cuda\" if torch.cuda.is_available() else \"cpu\")\n",
        "\n",
        "# Cargar modelo preentrenado de Resnet50\n",
        "model_side = models.resnet50(pretrained=True)\n",
        "\n",
        "# Reemplazamos la capa final para 2 clases (left, right)\n",
        "\n",
        "num_ftrs = model_side.fc.in_features # nº activaciones de entrada de última fc layer\n",
        "model_side.fc = nn.Linear(num_ftrs, 2)  # modificación de última capa fc del modelo\n",
        "#salida.\n",
        "\n",
        "# Pasar el modelo a GPU si está disponible\n",
        "model_side = model_side.to(device)"
      ],
      "metadata": {
        "id": "K1eke-dRnjwj",
        "colab": {
          "base_uri": "https://localhost:8080/"
        },
        "outputId": "96b2f11c-877b-47e0-d9a9-63011d3f2e23"
      },
      "execution_count": 5,
      "outputs": [
        {
          "output_type": "stream",
          "name": "stderr",
          "text": [
            "/usr/local/lib/python3.11/dist-packages/torchvision/models/_utils.py:208: UserWarning: The parameter 'pretrained' is deprecated since 0.13 and may be removed in the future, please use 'weights' instead.\n",
            "  warnings.warn(\n",
            "/usr/local/lib/python3.11/dist-packages/torchvision/models/_utils.py:223: UserWarning: Arguments other than a weight enum or `None` for 'weights' are deprecated since 0.13 and may be removed in the future. The current behavior is equivalent to passing `weights=ResNet50_Weights.IMAGENET1K_V1`. You can also use `weights=ResNet50_Weights.DEFAULT` to get the most up-to-date weights.\n",
            "  warnings.warn(msg)\n",
            "Downloading: \"https://download.pytorch.org/models/resnet50-0676ba61.pth\" to /root/.cache/torch/hub/checkpoints/resnet50-0676ba61.pth\n",
            "100%|██████████| 97.8M/97.8M [00:00<00:00, 156MB/s]\n"
          ]
        }
      ]
    },
    {
      "cell_type": "code",
      "source": [
        "# Definimos función de pérdida y optimizador\n",
        "loss_fn = nn.CrossEntropyLoss()\n",
        "optimizer = optim.Adam(model_side.parameters(), lr=0.001)"
      ],
      "metadata": {
        "id": "Behh2ybYnpGA"
      },
      "execution_count": 6,
      "outputs": []
    },
    {
      "cell_type": "markdown",
      "source": [
        "ENTRENAMIENTO DEL MODELO Y GRABACIÓN DE LOS PESOS DEL MEJOR EN BASE A LA PRECISIÓN"
      ],
      "metadata": {
        "id": "qcc9-PRsnvfN"
      }
    },
    {
      "cell_type": "code",
      "source": [
        "#Creamos la variable de \"mejor precisión\":\n",
        "\n",
        "best_acc = 0.0\n",
        "\n",
        "#Establecemos el número de épocas y comenzamos el bucle de entrenamiento\n",
        "\n",
        "for epoch in range(10):\n",
        "    model_side.train() #se pone el modelo en modo entrenamiento\n",
        "    running_loss = 0.0\n",
        "    correct = 0 #resultados correctos\n",
        "    total = 0 #total de resultados\n",
        "\n",
        "    for inputs, labels in train_loader: #bucle en train_loader\n",
        "        inputs, labels = inputs.to(device), labels.to(device) #forzamos uso de gpu\n",
        "\n",
        "        optimizer.zero_grad() #limpiamos los gradientes acumulados\n",
        "        outputs = model_side(inputs) #pasa las imágenes del train por el modelo\n",
        "        loss = loss_fn(outputs, labels) #compara resultados con labels\n",
        "        loss.backward() #backpropagation\n",
        "        optimizer.step() #aplica los cambios a los pesos del modelo\n",
        "\n",
        "        running_loss += loss.item()\n",
        "        max_vals, preds = torch.max(outputs, 1) #Obtenemos las probabilidades\n",
        "        #y las categorías de lado predichas\n",
        "        correct += (preds == labels).sum().item() #Acumulamos las predicciones\n",
        "        #correctas\n",
        "        total += labels.size(0) #Acumulamos el total de resultados para\n",
        "        #obtener la precisión.\n",
        "\n",
        "    epoch_loss = running_loss / len(train_loader) #Pérdida media\n",
        "    epoch_acc = correct / total #precisión de la época\n",
        "\n",
        "    print(f'Epoch {epoch + 1}/10 - Loss: {epoch_loss:.4f} - Acc: {epoch_acc:.4f}')\n",
        "\n",
        "    # Si la precisión mejora, guarda el modelo con mejor precisión.\n",
        "    if epoch_acc > best_acc:\n",
        "        best_acc = epoch_acc\n",
        "        torch.save(model_side.state_dict(), '/content/drive/MyDrive/TFM/modelos/model_side_weights6.pth')\n",
        "        print(f'Modelo mejorado con precisión: {epoch_acc:.4f}')\n",
        "\n",
        "print(f'Mejor precisión: {best_acc:.4f}')"
      ],
      "metadata": {
        "id": "7n22ELpxnup4"
      },
      "execution_count": null,
      "outputs": []
    },
    {
      "cell_type": "markdown",
      "source": [
        "CARGA DEL MODELO CON LOS PESOS OPTIMIZADOS"
      ],
      "metadata": {
        "id": "AG4JSmq8evxH"
      }
    },
    {
      "cell_type": "code",
      "source": [
        "# Cargar modelo con los pesos entrenados\n",
        "model_side.load_state_dict(torch.load('/content/drive/MyDrive/TFM/modelos/model_side_weights6.pth', map_location=device))"
      ],
      "metadata": {
        "colab": {
          "base_uri": "https://localhost:8080/"
        },
        "id": "h2jrIKtRggkp",
        "outputId": "19e1344b-a4f4-4dbb-9c3f-d7f9222a6a56"
      },
      "execution_count": 7,
      "outputs": [
        {
          "output_type": "execute_result",
          "data": {
            "text/plain": [
              "<All keys matched successfully>"
            ]
          },
          "metadata": {},
          "execution_count": 7
        }
      ]
    },
    {
      "cell_type": "markdown",
      "source": [
        "EVALUACIÓN DEL MODELO CON EL CONJUNTO DE VALIDACIÓN\n"
      ],
      "metadata": {
        "id": "W8076GDKiVL8"
      }
    },
    {
      "cell_type": "code",
      "source": [
        "model_side.eval() # modelo en modo evaluación\n",
        "all_preds = []\n",
        "all_labels = []\n",
        "all_scores = []\n",
        "\n",
        "with torch.no_grad():\n",
        "    for inputs, labels in val_loader: #bucle en val_loader\n",
        "        inputs = inputs.to(device)\n",
        "        labels = labels.to(device)\n",
        "        outputs = model_side(inputs)\n",
        "\n",
        "        # Obtener las probabilidades\n",
        "        scores = torch.nn.functional.softmax(outputs, dim=1) #Se obtienen las\n",
        "        # probabilidades de cada clase\n",
        "        all_scores.append(scores.cpu().numpy()) #conversión a numpy para\n",
        "        # almacenar en la lista\n",
        "\n",
        "        # Obtener la categoría más probable (derecha o izquierda)\n",
        "        max_vals, preds = torch.max(outputs, 1)\n",
        "\n",
        "        all_preds.extend(preds.cpu().numpy())\n",
        "        all_labels.extend(labels.cpu().numpy())\n",
        "\n",
        "# Calcular Precisión\n",
        "accuracy = accuracy_score(all_labels, all_preds)\n",
        "\n",
        "# Calcular Recall\n",
        "recall = recall_score(all_labels, all_preds, average='micro')\n",
        "\n",
        "# Calcular mAP (Mean Average Precision)\n",
        "all_scores = np.concatenate(all_scores, axis=0)  # Concatenar todas las puntuaciones de los batchs\n",
        "all_labels = np.array(all_labels) # transformación en one hot encoding\n",
        "mAP = average_precision_score(np.eye(outputs.size(1))[all_labels], all_scores, average='micro')\n",
        "\n",
        "print(f'Accuracy: {accuracy * 100:.2f}% - Recall: {recall * 100:.2f}% - mAP: {mAP * 100:.2f}%')"
      ],
      "metadata": {
        "colab": {
          "base_uri": "https://localhost:8080/"
        },
        "id": "nwiMgeJrls01",
        "outputId": "06a87f01-ffcd-41a9-ff9f-7ee0066466a1"
      },
      "execution_count": 8,
      "outputs": [
        {
          "output_type": "stream",
          "name": "stdout",
          "text": [
            "Accuracy: 99.41% - Recall: 99.41% - mAP: 99.94%\n"
          ]
        }
      ]
    },
    {
      "cell_type": "markdown",
      "source": [
        "EVALUACIÓN DEL MODELO CON EL CONJUNTO DE TEST"
      ],
      "metadata": {
        "id": "A1bPMmTCiTvp"
      }
    },
    {
      "cell_type": "code",
      "source": [
        "model_side.eval() # modelo en modo evaluación\n",
        "all_preds = []\n",
        "all_labels = []\n",
        "all_scores = []\n",
        "\n",
        "with torch.no_grad():\n",
        "    for inputs, labels in test_loader: #bucle en test_loader\n",
        "        inputs = inputs.to(device)\n",
        "        labels = labels.to(device)\n",
        "        outputs = model_side(inputs)\n",
        "\n",
        "        # Obtener las probabilidades\n",
        "        scores = torch.nn.functional.softmax(outputs, dim=1) #Se obtienen las\n",
        "        # probabilidades de cada clase\n",
        "        all_scores.append(scores.cpu().numpy()) #conversión a numpy para\n",
        "        # almacenar en la lista\n",
        "\n",
        "        # Obtener la categoría más probable (derecha o izquierda)\n",
        "        max_vals, preds = torch.max(outputs, 1)\n",
        "\n",
        "        all_preds.extend(preds.cpu().numpy())\n",
        "        all_labels.extend(labels.cpu().numpy())\n",
        "\n",
        "# Calcular Precisión\n",
        "accuracy = accuracy_score(all_labels, all_preds)\n",
        "\n",
        "# Calcular Recall\n",
        "recall = recall_score(all_labels, all_preds, average='micro')\n",
        "\n",
        "# Calcular mAP (Mean Average Precision)\n",
        "all_scores = np.concatenate(all_scores, axis=0)  # Concatenar todas las puntuaciones de los batchs\n",
        "all_labels = np.array(all_labels) # transformación en one hot encoding\n",
        "mAP = average_precision_score(np.eye(outputs.size(1))[all_labels], all_scores, average='micro')\n",
        "\n",
        "print(f'Accuracy: {accuracy * 100:.2f}% - Recall: {recall * 100:.2f}% - mAP: {mAP * 100:.2f}%')"
      ],
      "metadata": {
        "colab": {
          "base_uri": "https://localhost:8080/"
        },
        "id": "E_IlGYO6mj8D",
        "outputId": "ea6cdf18-9494-4a8b-fd1c-54f945e2b024"
      },
      "execution_count": 9,
      "outputs": [
        {
          "output_type": "stream",
          "name": "stdout",
          "text": [
            "Accuracy: 99.42% - Recall: 99.42% - mAP: 99.97%\n"
          ]
        }
      ]
    }
  ]
}