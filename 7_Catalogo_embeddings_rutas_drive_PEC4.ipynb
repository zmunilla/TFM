{
  "nbformat": 4,
  "nbformat_minor": 0,
  "metadata": {
    "colab": {
      "provenance": [],
      "authorship_tag": "ABX9TyOlZdGWNwh2T4/NaNW/KzVQ",
      "include_colab_link": true
    },
    "kernelspec": {
      "name": "python3",
      "display_name": "Python 3"
    },
    "language_info": {
      "name": "python"
    }
  },
  "cells": [
    {
      "cell_type": "markdown",
      "metadata": {
        "id": "view-in-github",
        "colab_type": "text"
      },
      "source": [
        "<a href=\"https://colab.research.google.com/github/zmunilla/TFM/blob/main/7_Catalogo_embeddings_rutas_drive_PEC4.ipynb\" target=\"_parent\"><img src=\"https://colab.research.google.com/assets/colab-badge.svg\" alt=\"Open In Colab\"/></a>"
      ]
    },
    {
      "cell_type": "markdown",
      "source": [
        "**CONECTAMOS A DRIVE**"
      ],
      "metadata": {
        "id": "bVmEnZtjPtab"
      }
    },
    {
      "cell_type": "code",
      "execution_count": null,
      "metadata": {
        "colab": {
          "base_uri": "https://localhost:8080/"
        },
        "id": "9rZ3wJqdPTzO",
        "outputId": "6e8d5492-6517-4ec7-d41f-baa9d5bd4722"
      },
      "outputs": [
        {
          "output_type": "stream",
          "name": "stdout",
          "text": [
            "Mounted at /content/drive\n"
          ]
        }
      ],
      "source": [
        "from google.colab import drive\n",
        "drive.mount('/content/drive')"
      ]
    },
    {
      "cell_type": "markdown",
      "source": [
        "**REFERENCIAS RUTAS**"
      ],
      "metadata": {
        "id": "7n5phW2aeHu0"
      }
    },
    {
      "cell_type": "code",
      "source": [
        "# Listar los archivos de la carpeta con las imágenes representativas de los embeddings\n",
        "\n",
        "import os\n",
        "\n",
        "folder_path = \"/content/drive/MyDrive/EMB_IMG_DEF/left\"\n",
        "\n",
        "image_files = [f for f in os.listdir(folder_path) if f.lower().endswith((\".jpg\", \".jpeg\", \".png\"))]\n",
        "print(f\"Total imágenes encontradas: {len(image_files)}\")"
      ],
      "metadata": {
        "id": "oa3qSkH-LqIW"
      },
      "execution_count": null,
      "outputs": []
    },
    {
      "cell_type": "code",
      "source": [
        "#Usar PyDrive para obtener los IDs de Drive\n",
        "!pip install -U -q PyDrive\n",
        "from pydrive.auth import GoogleAuth\n",
        "from pydrive.drive import GoogleDrive\n",
        "from google.colab import auth\n",
        "from oauth2client.client import GoogleCredentials\n",
        "\n",
        "# Autenticación\n",
        "auth.authenticate_user()\n",
        "gauth = GoogleAuth()\n",
        "gauth.credentials = GoogleCredentials.get_application_default()\n",
        "drive = GoogleDrive(gauth)\n"
      ],
      "metadata": {
        "id": "S9orl3zuLwvh"
      },
      "execution_count": null,
      "outputs": []
    },
    {
      "cell_type": "code",
      "source": [
        "# Obtener el ID de cada archivo\n",
        "drive_image_map = {}\n",
        "\n",
        "# Buscar en Drive la carpeta específica\n",
        "folder_name = \"right\"  # nombre exacto de la carpeta dentro de EMB_IMG_DEF\n",
        "parent_folder_id = None\n",
        "\n",
        "# Buscar carpeta 'EMB_IMG_DEF'\n",
        "file_list = drive.ListFile({'q': \"'root' in parents and trashed=false\"}).GetList()\n",
        "for file in file_list:\n",
        "    if file['title'] == 'EMB_IMG_DEF' and file['mimeType'] == 'application/vnd.google-apps.folder':\n",
        "        parent_folder_id = file['id']\n",
        "        break\n",
        "\n",
        "if parent_folder_id is None:\n",
        "    raise Exception(\"❌ No se encontró la carpeta 'EMB_IMG_DEF' en tu Drive.\")\n",
        "\n",
        "# Buscar la subcarpeta 'left'\n",
        "right_folder_id = None\n",
        "file_list = drive.ListFile({'q': f\"'{parent_folder_id}' in parents and trashed=false\"}).GetList()\n",
        "for file in file_list:\n",
        "    if file['title'] == folder_name and file['mimeType'] == 'application/vnd.google-apps.folder':\n",
        "        right_folder_id = file['id']\n",
        "        break\n",
        "\n",
        "if right_folder_id is None:\n",
        "    raise Exception(\"❌ No se encontró la subcarpeta 'right' dentro de 'EMB_IMG_DEF'.\")\n",
        "\n",
        "# Obtener archivos dentro de 'right'\n",
        "file_list = drive.ListFile({'q': f\"'{right_folder_id}' in parents and trashed=false\"}).GetList()\n",
        "\n",
        "for file in file_list:\n",
        "    filename = file['title']\n",
        "    file_id = file['id']\n",
        "    if filename.lower().endswith((\".jpg\", \".jpeg\", \".png\")):\n",
        "        drive_image_map[filename] = file_id\n",
        "\n",
        "print(f\"✅ Total mapeados: {len(drive_image_map)}\")"
      ],
      "metadata": {
        "id": "II5solFtLyx8"
      },
      "execution_count": null,
      "outputs": []
    },
    {
      "cell_type": "code",
      "source": [
        "# Mostrar una parte del diccionario\n",
        "from pprint import pprint\n",
        "pprint(dict(list(drive_image_map.items())[:10]))  # muestra los primeros 10"
      ],
      "metadata": {
        "id": "jWXT610wL10V"
      },
      "execution_count": null,
      "outputs": []
    },
    {
      "cell_type": "code",
      "source": [
        "# Guardar como JSON\n",
        "import json\n",
        "\n",
        "with open(\"drive_image_map_left_def.json\", \"w\") as f:\n",
        "    json.dump(drive_image_map, f)\n",
        "\n",
        "print(\"✅ Diccionario guardado como drive_image_map_left_def.json\")\n"
      ],
      "metadata": {
        "id": "1BHzg8FML3hC"
      },
      "execution_count": null,
      "outputs": []
    },
    {
      "cell_type": "code",
      "source": [
        "import pickle\n",
        "\n",
        "# Ruta a tu archivo .pkl\n",
        "pkl_path = \"/content/drive/MyDrive/TFM/modelos2/catalog_triplet_right_REDEF2.pkl\"\n",
        "output_txt = \"referencia_imagenes_right_def2.txt\"  # Archivo de salida\n",
        "\n",
        "# Leer el archivo pkl y extraer rutas de imagen\n",
        "with open(pkl_path, \"rb\") as f:\n",
        "    catalog = pickle.load(f)\n",
        "\n",
        "rutas_imagenes = [str(entry[\"image_path\"]) for entry in catalog.values() if \"image_path\" in entry]\n",
        "\n",
        "# Guardar a archivo .txt\n",
        "with open(output_txt, \"w\", encoding=\"utf-8\") as f:\n",
        "    for ruta in rutas_imagenes:\n",
        "        f.write(f\"{ruta}\\n\")\n",
        "\n",
        "print(f\"Se han guardado {len(rutas_imagenes)} rutas de imágenes en {output_txt}\")\n"
      ],
      "metadata": {
        "colab": {
          "base_uri": "https://localhost:8080/"
        },
        "id": "J29o3Q5vAgkq",
        "outputId": "a6f08b1e-337b-431b-ab2a-f945354c5351"
      },
      "execution_count": null,
      "outputs": [
        {
          "output_type": "stream",
          "name": "stdout",
          "text": [
            "Se han guardado 32 rutas de imágenes en referencia_imagenes_right_def2.txt\n"
          ]
        }
      ]
    },
    {
      "cell_type": "code",
      "source": [
        "with open(output_pkl_path, \"rb\") as f:\n",
        "    catalog = pickle.load(f)\n",
        "\n",
        "rutas = [v[\"image_path\"] for v in catalog.values()]\n"
      ],
      "metadata": {
        "id": "TGePzMLu_flk"
      },
      "execution_count": null,
      "outputs": []
    },
    {
      "cell_type": "markdown",
      "source": [
        "**CAMBIAR CATALOGO EMBEDDINGS A RUTAS DRIVE**"
      ],
      "metadata": {
        "id": "DAKZu7CuDdtw"
      }
    },
    {
      "cell_type": "code",
      "source": [
        "import pickle\n",
        "from pathlib import Path\n",
        "\n",
        "# Carga el archivo .pkl original\n",
        "with open(\"/content/drive/MyDrive/TFM/modelos2/catalog_triplet_right_REDEF2.pkl\", \"rb\") as f:\n",
        "    catalog = pickle.load(f)\n",
        "\n",
        "# Crea una nueva versión del catálogo con solo los nombres de archivo\n",
        "new_catalog = {}\n",
        "for class_id, entry in catalog.items():\n",
        "    image_path = Path(entry[\"image_path\"])\n",
        "    new_entry = entry.copy()\n",
        "    new_entry[\"image_name\"] = image_path.name  # Guardamos solo el nombre\n",
        "    new_catalog[class_id] = new_entry\n",
        "\n",
        "# Guardar como nuevo .pkl para verificación o edición posterior\n",
        "with open(\"cat_emb_right_for_mapping.pkl\", \"wb\") as f:\n",
        "    pickle.dump(new_catalog, f)\n",
        "\n",
        "print(\"✔️ Generado archivo 'cat_emb_right_for_mapping.pkl' con nombres limpios.\")\n"
      ],
      "metadata": {
        "colab": {
          "base_uri": "https://localhost:8080/"
        },
        "id": "7pO8vSnfDcv6",
        "outputId": "c03fbe5d-4b3a-4577-8698-9d26887a46a3"
      },
      "execution_count": null,
      "outputs": [
        {
          "output_type": "stream",
          "name": "stdout",
          "text": [
            "✔️ Generado archivo 'cat_emb_right_for_mapping.pkl' con nombres limpios.\n"
          ]
        }
      ]
    },
    {
      "cell_type": "code",
      "source": [
        "drive_image_map_L = {\"079_img131.jpg\": \"1hBj_IEgtSCNpkuwcpZdSryrf4Yjz0bBT\", \"050_img005.jpg\": \"1-CeDkjuAHxqCiaxudGvOi0j4xW0ohQKY\", \"047_img025.jpg\": \"1O3Sk0dXia94BJh4AjwyEyGDzx75kOmU3\", \"046_img002.jpg\": \"1nX4eDmIkGjMNuJh4hZsC24RMXvBOCa16\", \"043_img004.jpg\": \"1R1tc4-o9jsbuUXPGWQJt5WZwkoby8kZc\", \"042_img004.jpg\": \"1RkMrtOp0MFEuyViOda2Sa1ehdhMUCiDe\", \"040_img021.jpg\": \"1K8Gdoul4FgxZ9X7SmyJzcHBvDt8Iyipj\", \"039_img082.jpg\": \"199tKiLSBAjKtRcXB8wH04YbO9_KdChfW\", \"038_img005.jpg\": \"1ygE9_Cp4xZGhQvEMtDlXEcKxRGvg7tBV\", \"037_img054.jpg\": \"1lNXcHQjUOHZtJHpiimIVk4Pjzq-zcv-X\", \"036_img109.jpg\": \"1iVwC4AkOom7-krhmxKAZwI0TJQu0rZp9\", \"035_img002.jpg\": \"1RVFj3IAvggfMft23znCACqTjVqFnMVzo\", \"032_img039.jpg\": \"1-0Zfubpuu33IlLmqvdclaDaGQfTNNB0z\", \"031_img112.jpg\": \"18_pTq2lL5EHTvIcNq7MBGWMkvM9ful4b\", \"030_img012.jpg\": \"1gR8NDSzDjjUiTwwdS7xbBAn3S9ohOai1\", \"029_img060.jpg\": \"1WM3UoQlJRTFti89pPwtgDbAnIDkZ9QRh\", \"028_img001.jpg\": \"122ypH7E_L5KhAHi6yL-XxQTw1dtxUmqa\", \"027_img003.jpg\": \"1tAXog2kE1VtzLS2_xgFp0Je-eTWLfs5N\", \"026_img057.jpg\": \"1ap9vmj8A45cerJBTF5Fp1ZLUnFJWODld\", \"023_img006.jpg\": \"1rdveVnK93-TsG2kln8QuLBnvqdP-yA-s\", \"022_img022.jpg\": \"1OIOqi1r8FnHr1ra0Yws0WHm-VAERi6ai\", \"021_img095.jpg\": \"1tJeycx6lrqQYKuS1LSkQOPHygGkW9Ni0\", \"019_img023.jpg\": \"18I0hf9wBZD4Myf1XF8B8227t2iWFQcIX\", \"018_img029.jpg\": \"1qV5ZLTgInBk07k9kE6PvdcwggcRknBzH\", \"016_img015.jpg\": \"1NvTRZ3ydVlnU4n4ZgM1LdR1PE_RSixTH\", \"014_img158.jpg\": \"1kuASDAucHMvOGQkLoVeGjpPlxz7itS2z\", \"008_img025.jpg\": \"1tgPKIM7mBSux_EXGeKH4bdWNfLW-NyGZ\", \"007_img019.jpg\": \"1lXzijRd63RP_7PHKI2wLwplRyNJ_5Z0s\", \"006_img044.jpg\": \"1tXzzypnHY5eexlM6iKjAKb7f-tDxOpdY\", \"005_img034.jpg\": \"1jd9P6Ng7CE594v18LvqNMuk6DaV6rWRB\", \"004_img034.jpg\": \"146gpkiVhzsh1YlKzum4YyjY3afE283__\", \"003_img221.jpg\": \"1SWvor6APOXYLsHnVRTaDgB2ot_Q2q7ql\", \"002_img022.jpg\": \"1SNJZ3ixJBEd13LiGnHuALtFittwM2Evp\", \"001_img043.jpg\": \"1apT3bCAd89xBA6G8BIAId2atOqHcvIOV\"}"
      ],
      "metadata": {
        "id": "Kv8ONsG_EEGK"
      },
      "execution_count": null,
      "outputs": []
    },
    {
      "cell_type": "code",
      "source": [
        "drive_image_map_R = {\"089_img007.jpg\": \"1VddygLte0u8I6GkQ4GujsYlFiZsAUTzJ\", \"088_img001.jpg\": \"1JXPBe4ddmONTmXQz164Q4mSB2-lxqwnO\", \"050_img007.jpg\": \"18bmFTZBWNcXdCaOBFDmL21ZEHqEGfiIH\", \"047_img023.jpg\": \"1ogsIO26TH6h4jlPuKmJIk-x_QPutD9cE\", \"046_img019.jpg\": \"1BVDohGPMWYhqk3dhiEISJ2RicOIOjmUl\", \"043_img011.jpg\": \"1pIjrp1Cg-z69wVdB02DI7Y2zHWVYOXfB\", \"042_img013.jpg\": \"1c2Ix473BaLSMW7sHOLgJfyyqcYMZkBtJ\", \"040_img041.jpg\": \"1biVV8tttJ_2ionh3I74xwPXwBBdMFEnt\", \"039_img088.jpg\": \"1Nei7hrc0LEob6STMxsRMQrcXsYDdZIbU\", \"037_img043.jpg\": \"1NRLYP8a4R4oas6CTT_rFnM-OqL2qbu8K\", \"036_img083.jpg\": \"1W4-axigVr_5w8GRuesk7EPXC9I5p_dAB\", \"035_img016.jpg\": \"1vDjf71rnXb2Mj-0OP4vQFAy5Yw8ML0kF\", \"034_img011.jpg\": \"1DgxYKM4Jk2rPllQ77fDVK1-jObLlVfgn\", \"032_img032.jpg\": \"1r45ZonoMSJnzTeZ4q9KuxAOYyntggkYm\", \"031_img088.jpg\": \"1NO7_IPqsw-I8fwycqYrLz0MOAc6Mj9At\", \"030_img019.jpg\": \"1oj59ABjffIyS57sSBu81jWJuealsGv7K\", \"029_img077.jpg\": \"167RnMQX4An_2DfelAAT7S8zVfBhvX2y_\", \"028_img039.jpg\": \"1IZ7g82YQGPgurpFTeyef2_bufn7Wzk-p\", \"026_img067.jpg\": \"1ZhMZUszWxOQFGO0eQhFNS9mexn-5DSCg\", \"021_img087.jpg\": \"1YgkO53fSEBx_QWUxbHtjLLP9xctNZoEY\", \"020_img009.jpg\": \"1B3UJEsGjY16oeM-JQaVa0YVKFOmgl1ox\", \"018_img007.jpg\": \"1qPzZ5pq2kPvSoQM_Q3O8PIY_RDGP80RP\", \"016_img004.jpg\": \"1PolLvt8zfrJeZr7Trgy276ODU0SXQxZe\", \"014_img156.jpg\": \"1tf1xQBSt3CVzg0y58aO8OosxK4Tm-2ir\", \"008_img093.jpg\": \"1f2xL-Wi5qWf0iqelU2MVuYELUl6UQZA5\", \"007_img011.jpg\": \"1m3xUiNGXMJnujIlPMt-jhZPMlr2oKjlD\", \"006_img019.jpg\": \"1OYFoqW7m0MGz61jk4mDSmMJWBjZxjctj\", \"005_img003.jpg\": \"1Sylh3z012pdbYtFBGlACMdI1D_3OaMHa\", \"004_img039.jpg\": \"1p9k6R1yXaWVDGZASWxSPoMZuePzvKGtL\", \"003_img066.jpg\": \"1DHND7jyspNNublttzpBNTSr038fJFAlZ\", \"002_img006.jpg\": \"16oxI-sVvakpW3FlYWtVipy7mkqp8HcLJ\", \"001_img054.jpg\": \"16bOlBX-tXhVbr4bFH72yH6yqel3zP930\"}"
      ],
      "metadata": {
        "id": "Nv2XMS2fLQCc"
      },
      "execution_count": null,
      "outputs": []
    },
    {
      "cell_type": "code",
      "source": [
        "import pickle\n",
        "\n",
        "# Ruta base de visualización en Drive\n",
        "\n",
        "\n",
        "base_drive_url = \"https://drive.google.com/uc?export=view&id=\"\n",
        "\n",
        "# Cargar el catálogo anterior\n",
        "with open(\"cat_emb_right_for_mapping.pkl\", \"rb\") as f:\n",
        "    catalog = pickle.load(f)\n",
        "\n",
        "# Modificar catálogo con nuevas rutas Drive\n",
        "for class_id, entry in catalog.items():\n",
        "    name = entry[\"image_name\"]\n",
        "    if name in drive_image_map_R:\n",
        "        entry[\"image_path\"] = base_drive_url + drive_image_map_R[name]\n",
        "    else:\n",
        "        print(f\"[⚠️] Imagen no encontrada en el mapa: {name}\")\n",
        "        entry[\"image_path\"] = None  # o mantenerla vacía\n",
        "\n",
        "# Guardar nuevo archivo modificado\n",
        "with open(\"cat_emb_right_DRIVE.pkl\", \"wb\") as f:\n",
        "    pickle.dump(catalog, f)\n",
        "\n",
        "print(\"✅ Catálogo actualizado con URLs de Drive.\")"
      ],
      "metadata": {
        "colab": {
          "base_uri": "https://localhost:8080/"
        },
        "id": "LCEmzc19ElsS",
        "outputId": "2617b96c-2cd7-4b13-f091-1a50fff352a9"
      },
      "execution_count": null,
      "outputs": [
        {
          "output_type": "stream",
          "name": "stdout",
          "text": [
            "✅ Catálogo actualizado con URLs de Drive.\n"
          ]
        }
      ]
    },
    {
      "cell_type": "code",
      "source": [
        "import pickle\n",
        "\n",
        "with open(\"cat_emb_right_DRIVE.pkl\", \"rb\") as f:\n",
        "    catalog = pickle.load(f)\n",
        "\n",
        "print(f\"🔍 Número de clases: {len(catalog)}\")\n",
        "print(\"Ejemplo de clases:\", list(catalog.keys())[:5])\n"
      ],
      "metadata": {
        "colab": {
          "base_uri": "https://localhost:8080/"
        },
        "id": "PPR8gM30Fvne",
        "outputId": "2aad93be-7950-4f51-dc75-944c56d1b05b"
      },
      "execution_count": null,
      "outputs": [
        {
          "output_type": "stream",
          "name": "stdout",
          "text": [
            "🔍 Número de clases: 32\n",
            "Ejemplo de clases: ['OO_GIB_014', 'OO_GIB_005', 'OO_GIB_008', 'OO_GIB_004', 'OO_GIB_002']\n"
          ]
        }
      ]
    },
    {
      "cell_type": "code",
      "source": [
        "# Revisa una clase específica (por ejemplo, la primera)\n",
        "first_key = list(catalog.keys())[0]\n",
        "print(f\"\\nClase: {first_key}\")\n",
        "print(\"Contenido:\")\n",
        "for k, v in catalog[first_key].items():\n",
        "    if k == \"embedding\":\n",
        "        print(f\" - {k}: Tensor shape {v.shape}\")\n",
        "    else:\n",
        "        print(f\" - {k}: {v}\")\n"
      ],
      "metadata": {
        "colab": {
          "base_uri": "https://localhost:8080/"
        },
        "id": "COKei3yPF261",
        "outputId": "d59400f2-9fc6-4750-a218-760f9590d02a"
      },
      "execution_count": null,
      "outputs": [
        {
          "output_type": "stream",
          "name": "stdout",
          "text": [
            "\n",
            "Clase: OO_GIB_014\n",
            "Contenido:\n",
            " - embedding: Tensor shape torch.Size([512])\n",
            " - image_path: https://drive.google.com/uc?export=view&id=1tf1xQBSt3CVzg0y58aO8OosxK4Tm-2ir\n",
            " - image_name: 014_img156.jpg\n"
          ]
        }
      ]
    }
  ]
}