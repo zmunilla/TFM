{
  "nbformat": 4,
  "nbformat_minor": 0,
  "metadata": {
    "colab": {
      "provenance": [],
      "authorship_tag": "ABX9TyO75DqTsFP+crvHitEfc95r",
      "include_colab_link": true
    },
    "kernelspec": {
      "name": "python3",
      "display_name": "Python 3"
    },
    "language_info": {
      "name": "python"
    }
  },
  "cells": [
    {
      "cell_type": "markdown",
      "metadata": {
        "id": "view-in-github",
        "colab_type": "text"
      },
      "source": [
        "<a href=\"https://colab.research.google.com/github/zmunilla/TFM/blob/main/Anotaci%C3%B3n_yolo_recorte.ipynb\" target=\"_parent\"><img src=\"https://colab.research.google.com/assets/colab-badge.svg\" alt=\"Open In Colab\"/></a>"
      ]
    },
    {
      "cell_type": "code",
      "execution_count": null,
      "metadata": {
        "id": "eSNW9daPWcbE"
      },
      "outputs": [],
      "source": [
        "from google.colab import drive\n",
        "drive.mount('/content/drive')"
      ]
    },
    {
      "cell_type": "code",
      "source": [
        "pip install ultralytics"
      ],
      "metadata": {
        "id": "ItMDchW4Wjee"
      },
      "execution_count": null,
      "outputs": []
    },
    {
      "cell_type": "code",
      "source": [
        "import os\n",
        "from ultralytics import YOLO\n",
        "import cv2\n",
        "import matplotlib.pyplot as plt\n",
        "\n",
        "# Cargar el modelo entrenado\n",
        "model = YOLO('/content/drive/MyDrive/TFM/best.pt')\n",
        "\n",
        "# Ruta a carpetas de entrada/salida\n",
        "\n",
        "input_folder = '/content/drive/MyDrive/TFM/img_prueba1'\n",
        "output_folder = '/content/drive/MyDrive/TFM/IMG_Salida_YOLO'\n",
        "\n",
        "for file_name in os.listdir(input_folder):\n",
        "    if file_name.lower().endswith(('.jpg', '.jpeg', '.png')):\n",
        "        input_path = os.path.join(input_folder, file_name)\n",
        "\n",
        "        # Leer la imagen original\n",
        "        image = cv2.imread(input_path)\n",
        "\n",
        "        # Realizar predicción\n",
        "        results = model(input_path)\n",
        "\n",
        "        for i, result in enumerate(results):\n",
        "            boxes = result.boxes.xyxy  # Coordenadas [x1, y1, x2, y2]\n",
        "            confidences = result.boxes.conf  # Confianza de cada predicción\n",
        "            class_ids = result.boxes.cls  # ID de la clase detectada\n",
        "\n",
        "            for j, (box, conf, cls) in enumerate(zip(boxes, confidences, class_ids)):\n",
        "                x1, y1, x2, y2 = map(int, box)\n",
        "\n",
        "                # Recortar la imagen usando las coordenadas\n",
        "                cropped = image[y1:y2, x1:x2]\n",
        "\n",
        "                # Ruta para guardar la imagen recortada\n",
        "                cropped_output_path = os.path.join(output_folder, f\"{file_name.split('.')[0]}_crop_{j+1}.jpg\")\n",
        "\n",
        "                # Guardar la imagen recortada\n",
        "                cv2.imwrite(cropped_output_path, cropped)\n",
        "                print(f\"Guardado: {cropped_output_path}\")\n",
        "\n",
        "print(\"✅ Recorte completado.\")\n",
        "\n"
      ],
      "metadata": {
        "id": "pSCjSghdWjYJ"
      },
      "execution_count": null,
      "outputs": []
    }
  ]
}